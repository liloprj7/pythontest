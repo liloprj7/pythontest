{
 "cells": [
  {
   "cell_type": "code",
   "execution_count": null,
   "metadata": {},
   "outputs": [
    {
     "name": "stdin",
     "output_type": "stream",
     "text": [
      "Enter a number between 20 and 30 28\n"
     ]
    },
    {
     "name": "stdout",
     "output_type": "stream",
     "text": [
      "\n",
      "Let's play\n",
      "\n",
      "Subtract 1, 2, or 3 from 28\n"
     ]
    },
    {
     "name": "stdin",
     "output_type": "stream",
     "text": [
      "Enter a number between 20 and 30 1\n"
     ]
    },
    {
     "name": "stdout",
     "output_type": "stream",
     "text": [
      "That number is not in range\n"
     ]
    },
    {
     "name": "stdin",
     "output_type": "stream",
     "text": [
      "Enter a number between 20 and 30 2\n"
     ]
    },
    {
     "name": "stdout",
     "output_type": "stream",
     "text": [
      "That number is not in range\n"
     ]
    },
    {
     "name": "stdin",
     "output_type": "stream",
     "text": [
      "Enter a number between 20 and 30 3\n"
     ]
    },
    {
     "name": "stdout",
     "output_type": "stream",
     "text": [
      "That number is not in range\n"
     ]
    }
   ],
   "source": [
    "import random\n",
    "while True:\n",
    "    count = int(input(\"Enter a number between 20 and 30\"))\n",
    "    if count < 20 or count > 30:\n",
    "        print(\"That number is not in range\")\n",
    "    else:\n",
    "        print(\"\\nLet's play\")\n",
    "        print(\"\\nSubtract 1, 2, or 3 from\", count)\n",
    "# Player moves\n",
    "def playermove():\n",
    "    while True:\n",
    "        number = int(input(\"\\nWhat number would you like to subtract\"))\n",
    "        if number > 1 and number <4:\n",
    "            print(\"\\nyou subtracted\", number, \"there is\", count-number, \"left\")\n",
    "            print(\"\\nMy turn!\")\n",
    "            break\n",
    "        else:\n",
    "            print(\"\\nplease enter 1,2 or 3\")\n",
    "\n",
    "def computermove():\n",
    "        computernum = random.randint(1,3)\n",
    "        print(\"\\nI subtracted\", computernum, \"there is\", count-computernum, \"left\")\n",
    "        print(\"\\nMake your move\")"
   ]
  },
  {
   "cell_type": "code",
   "execution_count": null,
   "metadata": {},
   "outputs": [],
   "source": []
  }
 ],
 "metadata": {
  "kernelspec": {
   "display_name": "Python 3",
   "language": "python",
   "name": "python3"
  },
  "language_info": {
   "codemirror_mode": {
    "name": "ipython",
    "version": 3
   },
   "file_extension": ".py",
   "mimetype": "text/x-python",
   "name": "python",
   "nbconvert_exporter": "python",
   "pygments_lexer": "ipython3",
   "version": "3.8.3"
  }
 },
 "nbformat": 4,
 "nbformat_minor": 4
}
